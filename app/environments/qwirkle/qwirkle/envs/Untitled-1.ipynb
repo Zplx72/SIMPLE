{
 "cells": [
  {
   "cell_type": "code",
   "execution_count": 23,
   "metadata": {},
   "outputs": [
    {
     "name": "stdout",
     "output_type": "stream",
     "text": [
      "hello world\n"
     ]
    }
   ],
   "source": [
    "class COLORS:\n",
    "    RED = 'red'\n",
    "    YELLOW = 'yellow'\n",
    "    GREEN = 'green'\n",
    "    CYAN = 'cyan'\n",
    "    MAGENTA = 'magenta'\n",
    "    BLUE = 'blue'\n",
    "\n",
    "\n",
    "class SHAPES:\n",
    "    TRIANGLE = 'triangle'\n",
    "    DIAMOND = 'diamond'\n",
    "    SQUARE = 'square'\n",
    "    CIRCLE = 'circle'\n",
    "    STAR = 'star'\n",
    "    SPARKLE = 'sparkle'\n",
    "\n",
    "\n",
    "class Piece:\n",
    "    def __init__(self, color=None, shape=None):\n",
    "        self.color = color\n",
    "        self.shape = shape\n",
    "\n",
    "    def __str__(self):\n",
    "        return '%s %s' % (self.color, self.shape)\n",
    "\n",
    "    def __repr__(self):\n",
    "        return self.__str__()\n",
    "\n",
    "def generate_new_bag_of_tiles():\n",
    "    print(\"hello world\")\n",
    "    _bag_of_tiles = []\n",
    "\n",
    "    shapes = [\n",
    "        SHAPES.CIRCLE,\n",
    "        SHAPES.DIAMOND,\n",
    "        SHAPES.SPARKLE,\n",
    "        SHAPES.SQUARE,\n",
    "        SHAPES.STAR,\n",
    "        SHAPES.TRIANGLE\n",
    "    ]\n",
    "\n",
    "    colors = [\n",
    "        COLORS.BLUE,\n",
    "        COLORS.CYAN,\n",
    "        COLORS.GREEN,\n",
    "        COLORS.MAGENTA,\n",
    "        COLORS.RED,\n",
    "        COLORS.YELLOW\n",
    "    ]\n",
    "\n",
    "    # for i in range(3):\n",
    "    for c in range(len(colors)):\n",
    "        for s in range(len(shapes)):\n",
    "            _bag_of_tiles.append(Piece(color=colors[c], shape=shapes[s]))    \n",
    "    return _bag_of_tiles\n",
    "bag_of_tiles = generate_new_bag_of_tiles()"
   ]
  },
  {
   "cell_type": "code",
   "execution_count": 24,
   "metadata": {},
   "outputs": [
    {
     "data": {
      "text/plain": [
       "[blue circle,\n",
       " blue diamond,\n",
       " blue sparkle,\n",
       " blue square,\n",
       " blue star,\n",
       " blue triangle,\n",
       " cyan circle,\n",
       " cyan diamond,\n",
       " cyan sparkle,\n",
       " cyan square,\n",
       " cyan star,\n",
       " cyan triangle,\n",
       " green circle,\n",
       " green diamond,\n",
       " green sparkle,\n",
       " green square,\n",
       " green star,\n",
       " green triangle,\n",
       " magenta circle,\n",
       " magenta diamond,\n",
       " magenta sparkle,\n",
       " magenta square,\n",
       " magenta star,\n",
       " magenta triangle,\n",
       " red circle,\n",
       " red diamond,\n",
       " red sparkle,\n",
       " red square,\n",
       " red star,\n",
       " red triangle,\n",
       " yellow circle,\n",
       " yellow diamond,\n",
       " yellow sparkle,\n",
       " yellow square,\n",
       " yellow star,\n",
       " yellow triangle]"
      ]
     },
     "execution_count": 24,
     "metadata": {},
     "output_type": "execute_result"
    }
   ],
   "source": [
    "bag_of_tiles"
   ]
  },
  {
   "cell_type": "code",
   "execution_count": 54,
   "metadata": {},
   "outputs": [],
   "source": [
    "look_up_dict = {}\n",
    "def piece_to_float_convewrter(piece, look_up_dict):\n",
    "    piece = str(piece)\n",
    "    if len(look_up_dict) == 36:\n",
    "        piece_in_float = look_up_dict[piece]\n",
    "        return piece_in_float\n",
    "    else:\n",
    "        float_auxilary = -0.90\n",
    "        counter = 0\n",
    "        shapes = [\n",
    "            SHAPES.CIRCLE,\n",
    "            SHAPES.DIAMOND,\n",
    "            SHAPES.SPARKLE,\n",
    "            SHAPES.SQUARE,\n",
    "            SHAPES.STAR,\n",
    "            SHAPES.TRIANGLE\n",
    "        ]\n",
    "\n",
    "        colors = [\n",
    "            COLORS.BLUE,\n",
    "            COLORS.CYAN,\n",
    "            COLORS.GREEN,\n",
    "            COLORS.MAGENTA,\n",
    "            COLORS.RED,\n",
    "            COLORS.YELLOW\n",
    "        ]\n",
    "\n",
    "        for c in range(len(colors)):\n",
    "            for s in range(len(shapes)):\n",
    "                zero_check = round(float_auxilary + (counter * 0.05), 2)\n",
    "                if zero_check == 0:\n",
    "                    zero_check = round(zero_check + 0.05, 2)\n",
    "                    counter += 1\n",
    "                look_up_dict[str(Piece(color=colors[c], shape=shapes[s]))] = zero_check\n",
    "                counter += 1\n",
    "    \n",
    "        # # print(look_up_dict)\n",
    "        # # print(type(piece))\n",
    "        # # Assuming 'look_up_dict' is your dictionary\n",
    "        # first_key = next(iter(look_up_dict))\n",
    "        # print(type(first_key))\n",
    "        print(len(look_up_dict))\n",
    "        piece_in_float = look_up_dict[str(piece)]\n",
    "        return piece_in_float\n",
    "        "
   ]
  },
  {
   "cell_type": "code",
   "execution_count": 55,
   "metadata": {},
   "outputs": [
    {
     "name": "stdout",
     "output_type": "stream",
     "text": [
      "36\n"
     ]
    },
    {
     "data": {
      "text/plain": [
       "-0.9"
      ]
     },
     "execution_count": 55,
     "metadata": {},
     "output_type": "execute_result"
    }
   ],
   "source": [
    "piece_to_float_convewrter(str(bag_of_tiles[0]), look_up_dict)"
   ]
  },
  {
   "cell_type": "code",
   "execution_count": 8,
   "metadata": {},
   "outputs": [
    {
     "name": "stdout",
     "output_type": "stream",
     "text": [
      "[[1. 0. 0. 0. 0.]\n",
      " [0. 0. 0. 0. 0.]\n",
      " [0. 0. 0. 0. 0.]\n",
      " [0. 0. 0. 0. 0.]\n",
      " [0. 0. 0. 0. 0.]]\n"
     ]
    }
   ],
   "source": [
    "import numpy as np\n",
    "\n",
    "grid_length = 5\n",
    "board = np.zeros((grid_length, grid_length), dtype=np.float32)\n",
    "board[0][0] = 1\n",
    "print(board)"
   ]
  },
  {
   "cell_type": "code",
   "execution_count": 9,
   "metadata": {},
   "outputs": [
    {
     "data": {
      "text/plain": [
       "False"
      ]
     },
     "execution_count": 9,
     "metadata": {},
     "output_type": "execute_result"
    }
   ],
   "source": [
    "np.all(board == float(0))\n",
    "\n"
   ]
  },
  {
   "cell_type": "code",
   "execution_count": 10,
   "metadata": {},
   "outputs": [
    {
     "data": {
      "text/plain": [
       "False"
      ]
     },
     "execution_count": 10,
     "metadata": {},
     "output_type": "execute_result"
    }
   ],
   "source": [
    "legal_actions = [0,0,0,0,0]\n",
    "np.all(legal_actions == 0)"
   ]
  },
  {
   "cell_type": "code",
   "execution_count": 11,
   "metadata": {},
   "outputs": [
    {
     "data": {
      "text/plain": [
       "True"
      ]
     },
     "execution_count": 11,
     "metadata": {},
     "output_type": "execute_result"
    }
   ],
   "source": [
    "legal_actions = [0,0,0,0,0]\n",
    "np.all(np.array(legal_actions) == 0)"
   ]
  },
  {
   "cell_type": "code",
   "execution_count": null,
   "metadata": {},
   "outputs": [],
   "source": [
    "legla"
   ]
  }
 ],
 "metadata": {
  "kernelspec": {
   "display_name": "Python 3",
   "language": "python",
   "name": "python3"
  },
  "language_info": {
   "codemirror_mode": {
    "name": "ipython",
    "version": 3
   },
   "file_extension": ".py",
   "mimetype": "text/x-python",
   "name": "python",
   "nbconvert_exporter": "python",
   "pygments_lexer": "ipython3",
   "version": "3.10.0"
  }
 },
 "nbformat": 4,
 "nbformat_minor": 2
}
