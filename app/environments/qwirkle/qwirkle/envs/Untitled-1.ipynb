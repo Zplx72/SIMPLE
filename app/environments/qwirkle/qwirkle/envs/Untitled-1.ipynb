{
 "cells": [
  {
   "cell_type": "code",
   "execution_count": 23,
   "metadata": {},
   "outputs": [
    {
     "name": "stdout",
     "output_type": "stream",
     "text": [
      "hello world\n"
     ]
    }
   ],
   "source": [
    "class COLORS:\n",
    "    RED = 'red'\n",
    "    YELLOW = 'yellow'\n",
    "    GREEN = 'green'\n",
    "    CYAN = 'cyan'\n",
    "    MAGENTA = 'magenta'\n",
    "    BLUE = 'blue'\n",
    "\n",
    "\n",
    "class SHAPES:\n",
    "    TRIANGLE = 'triangle'\n",
    "    DIAMOND = 'diamond'\n",
    "    SQUARE = 'square'\n",
    "    CIRCLE = 'circle'\n",
    "    STAR = 'star'\n",
    "    SPARKLE = 'sparkle'\n",
    "\n",
    "\n",
    "class Piece:\n",
    "    def __init__(self, color=None, shape=None):\n",
    "        self.color = color\n",
    "        self.shape = shape\n",
    "\n",
    "    def __str__(self):\n",
    "        return '%s %s' % (self.color, self.shape)\n",
    "\n",
    "    def __repr__(self):\n",
    "        return self.__str__()\n",
    "\n",
    "def generate_new_bag_of_tiles():\n",
    "    print(\"hello world\")\n",
    "    _bag_of_tiles = []\n",
    "\n",
    "    shapes = [\n",
    "        SHAPES.CIRCLE,\n",
    "        SHAPES.DIAMOND,\n",
    "        SHAPES.SPARKLE,\n",
    "        SHAPES.SQUARE,\n",
    "        SHAPES.STAR,\n",
    "        SHAPES.TRIANGLE\n",
    "    ]\n",
    "\n",
    "    colors = [\n",
    "        COLORS.BLUE,\n",
    "        COLORS.CYAN,\n",
    "        COLORS.GREEN,\n",
    "        COLORS.MAGENTA,\n",
    "        COLORS.RED,\n",
    "        COLORS.YELLOW\n",
    "    ]\n",
    "\n",
    "    # for i in range(3):\n",
    "    for c in range(len(colors)):\n",
    "        for s in range(len(shapes)):\n",
    "            _bag_of_tiles.append(Piece(color=colors[c], shape=shapes[s]))    \n",
    "    return _bag_of_tiles\n",
    "bag_of_tiles = generate_new_bag_of_tiles()"
   ]
  },
  {
   "cell_type": "code",
   "execution_count": 24,
   "metadata": {},
   "outputs": [
    {
     "data": {
      "text/plain": [
       "[blue circle,\n",
       " blue diamond,\n",
       " blue sparkle,\n",
       " blue square,\n",
       " blue star,\n",
       " blue triangle,\n",
       " cyan circle,\n",
       " cyan diamond,\n",
       " cyan sparkle,\n",
       " cyan square,\n",
       " cyan star,\n",
       " cyan triangle,\n",
       " green circle,\n",
       " green diamond,\n",
       " green sparkle,\n",
       " green square,\n",
       " green star,\n",
       " green triangle,\n",
       " magenta circle,\n",
       " magenta diamond,\n",
       " magenta sparkle,\n",
       " magenta square,\n",
       " magenta star,\n",
       " magenta triangle,\n",
       " red circle,\n",
       " red diamond,\n",
       " red sparkle,\n",
       " red square,\n",
       " red star,\n",
       " red triangle,\n",
       " yellow circle,\n",
       " yellow diamond,\n",
       " yellow sparkle,\n",
       " yellow square,\n",
       " yellow star,\n",
       " yellow triangle]"
      ]
     },
     "execution_count": 24,
     "metadata": {},
     "output_type": "execute_result"
    }
   ],
   "source": [
    "bag_of_tiles"
   ]
  },
  {
   "cell_type": "code",
   "execution_count": 42,
   "metadata": {},
   "outputs": [],
   "source": [
    "look_up_dict = {}\n",
    "def piece_to_float_convewrter(piece, look_up_dict):\n",
    "    if len(look_up_dict) == 36:\n",
    "        piece_in_float = look_up_dict[piece]\n",
    "        return piece_in_float\n",
    "    else:\n",
    "        float_auxilary = -0.90\n",
    "        counter = 0\n",
    "        shapes = [\n",
    "            SHAPES.CIRCLE,\n",
    "            SHAPES.DIAMOND,\n",
    "            SHAPES.SPARKLE,\n",
    "            SHAPES.SQUARE,\n",
    "            SHAPES.STAR,\n",
    "            SHAPES.TRIANGLE\n",
    "        ]\n",
    "\n",
    "        colors = [\n",
    "            COLORS.BLUE,\n",
    "            COLORS.CYAN,\n",
    "            COLORS.GREEN,\n",
    "            COLORS.MAGENTA,\n",
    "            COLORS.RED,\n",
    "            COLORS.YELLOW\n",
    "        ]\n",
    "\n",
    "        for c in range(len(colors)):\n",
    "            for s in range(len(shapes)):\n",
    "                zero_check = round(float_auxilary + (counter * 0.05), 2)\n",
    "                if zero_check == 0:\n",
    "                    zero_check = round(zero_check + 0.05, 2)\n",
    "                    counter += 1\n",
    "                look_up_dict[Piece(color=colors[c], shape=shapes[s])] = zero_check\n",
    "                counter += 1\n",
    "    \n",
    "        print(look_up_dict)\n",
    "        piece_in_float = look_up_dict[str(piece)]\n",
    "        return piece_in_float\n",
    "        "
   ]
  },
  {
   "cell_type": "code",
   "execution_count": 43,
   "metadata": {},
   "outputs": [
    {
     "name": "stdout",
     "output_type": "stream",
     "text": [
      "{blue circle: -0.9, blue diamond: -0.85, blue sparkle: -0.8, blue square: -0.75, blue star: -0.7, blue triangle: -0.65, cyan circle: -0.6, cyan diamond: -0.55, cyan sparkle: -0.5, cyan square: -0.45, cyan star: -0.4, cyan triangle: -0.35, green circle: -0.3, green diamond: -0.25, green sparkle: -0.2, green square: -0.15, green star: -0.1, green triangle: -0.05, magenta circle: 0.05, magenta diamond: 0.1, magenta sparkle: 0.15, magenta square: 0.2, magenta star: 0.25, magenta triangle: 0.3, red circle: 0.35, red diamond: 0.4, red sparkle: 0.45, red square: 0.5, red star: 0.55, red triangle: 0.6, yellow circle: 0.65, yellow diamond: 0.7, yellow sparkle: 0.75, yellow square: 0.8, yellow star: 0.85, yellow triangle: 0.9}\n"
     ]
    },
    {
     "ename": "KeyError",
     "evalue": "'blue circle'",
     "output_type": "error",
     "traceback": [
      "\u001b[1;31m---------------------------------------------------------------------------\u001b[0m",
      "\u001b[1;31mKeyError\u001b[0m                                  Traceback (most recent call last)",
      "Cell \u001b[1;32mIn[43], line 1\u001b[0m\n\u001b[1;32m----> 1\u001b[0m \u001b[43mpiece_to_float_convewrter\u001b[49m\u001b[43m(\u001b[49m\u001b[43mbag_of_tiles\u001b[49m\u001b[43m[\u001b[49m\u001b[38;5;241;43m0\u001b[39;49m\u001b[43m]\u001b[49m\u001b[43m,\u001b[49m\u001b[43m \u001b[49m\u001b[43mlook_up_dict\u001b[49m\u001b[43m)\u001b[49m\n",
      "Cell \u001b[1;32mIn[42], line 37\u001b[0m, in \u001b[0;36mpiece_to_float_convewrter\u001b[1;34m(piece, look_up_dict)\u001b[0m\n\u001b[0;32m     34\u001b[0m         counter \u001b[38;5;241m+\u001b[39m\u001b[38;5;241m=\u001b[39m \u001b[38;5;241m1\u001b[39m\n\u001b[0;32m     36\u001b[0m \u001b[38;5;28mprint\u001b[39m(look_up_dict)\n\u001b[1;32m---> 37\u001b[0m piece_in_float \u001b[38;5;241m=\u001b[39m \u001b[43mlook_up_dict\u001b[49m\u001b[43m[\u001b[49m\u001b[38;5;28;43mstr\u001b[39;49m\u001b[43m(\u001b[49m\u001b[43mpiece\u001b[49m\u001b[43m)\u001b[49m\u001b[43m]\u001b[49m\n\u001b[0;32m     38\u001b[0m \u001b[38;5;28;01mreturn\u001b[39;00m piece_in_float\n",
      "\u001b[1;31mKeyError\u001b[0m: 'blue circle'"
     ]
    }
   ],
   "source": [
    "piece_to_float_convewrter(bag_of_tiles[0], look_up_dict)"
   ]
  },
  {
   "cell_type": "code",
   "execution_count": null,
   "metadata": {},
   "outputs": [],
   "source": []
  }
 ],
 "metadata": {
  "kernelspec": {
   "display_name": "Python 3",
   "language": "python",
   "name": "python3"
  },
  "language_info": {
   "codemirror_mode": {
    "name": "ipython",
    "version": 3
   },
   "file_extension": ".py",
   "mimetype": "text/x-python",
   "name": "python",
   "nbconvert_exporter": "python",
   "pygments_lexer": "ipython3",
   "version": "3.10.0"
  }
 },
 "nbformat": 4,
 "nbformat_minor": 2
}
